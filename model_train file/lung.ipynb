{
 "cells": [
  {
   "cell_type": "code",
   "execution_count": 2,
   "id": "c0e45171-d23b-40df-8944-2b7b65022ddc",
   "metadata": {},
   "outputs": [],
   "source": [
    "import pandas as pd\n",
    "import numpy as np\n",
    "import matplotlib.pyplot as plt"
   ]
  },
  {
   "cell_type": "code",
   "execution_count": 3,
   "id": "a13ad898-953a-437e-9507-0d212fa39428",
   "metadata": {},
   "outputs": [
    {
     "data": {
      "text/html": [
       "<div>\n",
       "<style scoped>\n",
       "    .dataframe tbody tr th:only-of-type {\n",
       "        vertical-align: middle;\n",
       "    }\n",
       "\n",
       "    .dataframe tbody tr th {\n",
       "        vertical-align: top;\n",
       "    }\n",
       "\n",
       "    .dataframe thead th {\n",
       "        text-align: right;\n",
       "    }\n",
       "</style>\n",
       "<table border=\"1\" class=\"dataframe\">\n",
       "  <thead>\n",
       "    <tr style=\"text-align: right;\">\n",
       "      <th></th>\n",
       "      <th>age</th>\n",
       "      <th>gender</th>\n",
       "      <th>family_history</th>\n",
       "      <th>smoking_status</th>\n",
       "      <th>bmi</th>\n",
       "      <th>cholesterol_level</th>\n",
       "      <th>hypertension</th>\n",
       "      <th>asthma</th>\n",
       "      <th>cirrhosis</th>\n",
       "    </tr>\n",
       "  </thead>\n",
       "  <tbody>\n",
       "    <tr>\n",
       "      <th>0</th>\n",
       "      <td>64.0</td>\n",
       "      <td>Male</td>\n",
       "      <td>Yes</td>\n",
       "      <td>Passive Smoker</td>\n",
       "      <td>29.4</td>\n",
       "      <td>199</td>\n",
       "      <td>0</td>\n",
       "      <td>0</td>\n",
       "      <td>1</td>\n",
       "    </tr>\n",
       "    <tr>\n",
       "      <th>1</th>\n",
       "      <td>50.0</td>\n",
       "      <td>Female</td>\n",
       "      <td>Yes</td>\n",
       "      <td>Passive Smoker</td>\n",
       "      <td>41.2</td>\n",
       "      <td>280</td>\n",
       "      <td>1</td>\n",
       "      <td>1</td>\n",
       "      <td>0</td>\n",
       "    </tr>\n",
       "    <tr>\n",
       "      <th>2</th>\n",
       "      <td>65.0</td>\n",
       "      <td>Female</td>\n",
       "      <td>Yes</td>\n",
       "      <td>Former Smoker</td>\n",
       "      <td>44.0</td>\n",
       "      <td>268</td>\n",
       "      <td>1</td>\n",
       "      <td>1</td>\n",
       "      <td>0</td>\n",
       "    </tr>\n",
       "    <tr>\n",
       "      <th>3</th>\n",
       "      <td>51.0</td>\n",
       "      <td>Female</td>\n",
       "      <td>No</td>\n",
       "      <td>Passive Smoker</td>\n",
       "      <td>43.0</td>\n",
       "      <td>241</td>\n",
       "      <td>1</td>\n",
       "      <td>1</td>\n",
       "      <td>0</td>\n",
       "    </tr>\n",
       "    <tr>\n",
       "      <th>4</th>\n",
       "      <td>37.0</td>\n",
       "      <td>Male</td>\n",
       "      <td>No</td>\n",
       "      <td>Passive Smoker</td>\n",
       "      <td>19.7</td>\n",
       "      <td>178</td>\n",
       "      <td>0</td>\n",
       "      <td>0</td>\n",
       "      <td>0</td>\n",
       "    </tr>\n",
       "  </tbody>\n",
       "</table>\n",
       "</div>"
      ],
      "text/plain": [
       "    age  gender family_history  smoking_status   bmi  cholesterol_level  \\\n",
       "0  64.0    Male            Yes  Passive Smoker  29.4                199   \n",
       "1  50.0  Female            Yes  Passive Smoker  41.2                280   \n",
       "2  65.0  Female            Yes   Former Smoker  44.0                268   \n",
       "3  51.0  Female             No  Passive Smoker  43.0                241   \n",
       "4  37.0    Male             No  Passive Smoker  19.7                178   \n",
       "\n",
       "   hypertension  asthma  cirrhosis  \n",
       "0             0       0          1  \n",
       "1             1       1          0  \n",
       "2             1       1          0  \n",
       "3             1       1          0  \n",
       "4             0       0          0  "
      ]
     },
     "execution_count": 3,
     "metadata": {},
     "output_type": "execute_result"
    }
   ],
   "source": [
    "df = pd.read_csv('lung_cancer_dataset.csv')\n",
    "df.head()"
   ]
  },
  {
   "cell_type": "code",
   "execution_count": 4,
   "id": "3dd95b1c-e335-4c4b-98a3-c17ac9df424e",
   "metadata": {},
   "outputs": [
    {
     "name": "stdout",
     "output_type": "stream",
     "text": [
      "<class 'pandas.core.frame.DataFrame'>\n",
      "RangeIndex: 890000 entries, 0 to 889999\n",
      "Data columns (total 9 columns):\n",
      " #   Column             Non-Null Count   Dtype  \n",
      "---  ------             --------------   -----  \n",
      " 0   age                890000 non-null  float64\n",
      " 1   gender             890000 non-null  object \n",
      " 2   family_history     890000 non-null  object \n",
      " 3   smoking_status     890000 non-null  object \n",
      " 4   bmi                890000 non-null  float64\n",
      " 5   cholesterol_level  890000 non-null  int64  \n",
      " 6   hypertension       890000 non-null  int64  \n",
      " 7   asthma             890000 non-null  int64  \n",
      " 8   cirrhosis          890000 non-null  int64  \n",
      "dtypes: float64(2), int64(4), object(3)\n",
      "memory usage: 61.1+ MB\n"
     ]
    }
   ],
   "source": [
    "df.info()"
   ]
  },
  {
   "cell_type": "code",
   "execution_count": 5,
   "id": "f1b394e4-aad6-4dff-99ca-04d06537cdfc",
   "metadata": {},
   "outputs": [
    {
     "data": {
      "text/plain": [
       "smoking_status\n",
       "Passive Smoker    223170\n",
       "Never Smoked      222751\n",
       "Former Smoker     222181\n",
       "Current Smoker    221898\n",
       "Name: count, dtype: int64"
      ]
     },
     "execution_count": 5,
     "metadata": {},
     "output_type": "execute_result"
    }
   ],
   "source": [
    "df.smoking_status.value_counts()"
   ]
  },
  {
   "cell_type": "code",
   "execution_count": 6,
   "id": "926518e1-ecd5-449b-b9ff-2195188815f5",
   "metadata": {},
   "outputs": [
    {
     "name": "stdout",
     "output_type": "stream",
     "text": [
      "Test Accuracy: 0.7730224719101123\n"
     ]
    }
   ],
   "source": [
    "from sklearn.model_selection import train_test_split\n",
    "from sklearn.preprocessing import OneHotEncoder, StandardScaler\n",
    "from sklearn.compose import ColumnTransformer\n",
    "from sklearn.pipeline import Pipeline\n",
    "from sklearn.linear_model import LogisticRegression\n",
    "\n",
    "categorical_cols = ['gender', 'family_history', 'smoking_status']\n",
    "numeric_cols = ['age', 'bmi', 'cholesterol_level', 'hypertension', 'asthma']\n",
    "\n",
    "preprocessor = ColumnTransformer(\n",
    "    transformers=[\n",
    "        ('cat', OneHotEncoder(drop='first'), categorical_cols),\n",
    "        ('num', StandardScaler(), numeric_cols)\n",
    "    ]\n",
    ")\n",
    "\n",
    "X = df.drop('cirrhosis', axis=1)\n",
    "y = df['cirrhosis']\n",
    "\n",
    "X_train, X_test, y_train, y_test = train_test_split(X, y, test_size=0.2, random_state=42)\n",
    "\n",
    "model = Pipeline(steps=[\n",
    "    ('preprocessor', preprocessor),\n",
    "    ('classifier', LogisticRegression())\n",
    "])\n",
    "\n",
    "model.fit(X_train, y_train)\n",
    "\n",
    "print(\"Test Accuracy:\", model.score(X_test, y_test))\n"
   ]
  },
  {
   "cell_type": "code",
   "execution_count": 7,
   "id": "f177d958-97b6-4f44-b438-43a3eb7e162e",
   "metadata": {},
   "outputs": [],
   "source": [
    "# from sklearn.pipeline import Pipeline\n",
    "# from sklearn.ensemble import RandomForestClassifier\n",
    "# from sklearn.svm import SVC\n",
    "# from sklearn.neighbors import KNeighborsClassifier\n",
    "# from sklearn.naive_bayes import GaussianNB\n",
    "# from sklearn.neural_network import MLPClassifier\n",
    "\n",
    "# # Example: Random Forest\n",
    "# model_rf = Pipeline(steps=[\n",
    "#     ('preprocessor', preprocessor),\n",
    "#     ('classifier', RandomForestClassifier(random_state=42))\n",
    "# ])\n",
    "# # \n",
    "# # Example: SVM\n",
    "# model_svm = Pipeline(steps=[\n",
    "#     ('preprocessor', preprocessor),\n",
    "#     ('classifier', SVC(kernel='rbf', probability=True, random_state=42))\n",
    "# ])\n",
    "\n",
    "# # Example: KNN\n",
    "# model_knn = Pipeline(steps=[\n",
    "#     ('preprocessor', preprocessor),\n",
    "#     ('classifier', KNeighborsClassifier(n_neighbors=5))\n",
    "# ])\n",
    "\n",
    "# # Example: Naive Bayes\n",
    "# model_nb = Pipeline(steps=[\n",
    "#     ('preprocessor', preprocessor),\n",
    "#     ('classifier', GaussianNB())\n",
    "# ])\n",
    "\n",
    "# # Example: Neural Network\n",
    "# model_mlp = Pipeline(steps=[\n",
    "#     ('preprocessor', preprocessor),\n",
    "#     ('classifier', MLPClassifier(hidden_layer_sizes=(100,), max_iter=300, random_state=42))\n",
    "# ])\n"
   ]
  },
  {
   "cell_type": "code",
   "execution_count": 8,
   "id": "c8a778c0-32b2-43d3-a0ed-b3e806592904",
   "metadata": {},
   "outputs": [],
   "source": [
    "# for name, clf in [('Logistic Regression', model),\n",
    "#                   ('Random Forest', model_rf),\n",
    "#                   ('SVM', model_svm),\n",
    "#                   ('KNN', model_knn),\n",
    "#                   ('Naive Bayes', model_nb),\n",
    "#                   ('Neural Network', model_mlp)]:\n",
    "#     clf.fit(X_train, y_train)\n",
    "#     score = clf.score(X_test, y_test)\n",
    "#     print(f\"{name} Accuracy: {score:.4f}\")\n"
   ]
  },
  {
   "cell_type": "code",
   "execution_count": 10,
   "id": "e01a4bb2-e1f3-4e75-ad7e-711f6826a682",
   "metadata": {},
   "outputs": [
    {
     "name": "stdin",
     "output_type": "stream",
     "text": [
      "Enter age:  23\n",
      "Enter gender (Male/Female):  Male\n",
      "Family history (Yes/No):  Yes\n",
      "Smoking status (Passive Smoker/Former Smoker/Never Smoked/Current Smoker):  Passive Smoker\n",
      "Enter BMI:  23.3\n",
      "Enter cholesterol level:  180\n",
      "Hypertension? (1=yes, 0=no):  1\n",
      "Asthma? (1=yes, 0=no):  0\n"
     ]
    },
    {
     "name": "stdout",
     "output_type": "stream",
     "text": [
      "Prediction: No Cirrhosis (0 - No Cancer)\n",
      "Probability: 23.19% chance of cirrhosis\n"
     ]
    }
   ],
   "source": [
    "def predict_user(model):\n",
    "    user_data = {\n",
    "        'age': float(input(\"Enter age: \")),\n",
    "        'gender': input(\"Enter gender (Male/Female): \"),\n",
    "        'family_history': input(\"Family history (Yes/No): \"),\n",
    "        'smoking_status': input(\"Smoking status (Passive Smoker/Former Smoker/Never Smoked/Current Smoker): \"),\n",
    "        'bmi': float(input(\"Enter BMI: \")),\n",
    "        'cholesterol_level': int(input(\"Enter cholesterol level: \")),\n",
    "        'hypertension': int(input(\"Hypertension? (1=yes, 0=no): \")),\n",
    "        'asthma': int(input(\"Asthma? (1=yes, 0=no): \"))\n",
    "    }\n",
    "\n",
    "    user_df = pd.DataFrame([user_data])\n",
    "    prediction = model.predict(user_df)\n",
    "    proba = model.predict_proba(user_df)\n",
    "\n",
    "    print(\"Prediction:\", \"Cirrhosis (1 - Cancer)\" if prediction[0] == 1 else \"No Cirrhosis (0 - No Cancer)\")\n",
    "    print(f\"Probability: {proba[0][1]*100:.2f}% chance of cirrhosis\")\n",
    "\n",
    "\n",
    "# Example use:\n",
    "predict_user(model)\n"
   ]
  },
  {
   "cell_type": "code",
   "execution_count": 11,
   "id": "2092f367-2cb7-4ac9-81b7-969902d47f0f",
   "metadata": {},
   "outputs": [
    {
     "data": {
      "text/plain": [
       "['lung_cancer_model.pkl']"
      ]
     },
     "execution_count": 11,
     "metadata": {},
     "output_type": "execute_result"
    }
   ],
   "source": [
    "import joblib\n",
    "\n",
    "joblib.dump(model, 'lung_cancer_model.pkl')"
   ]
  },
  {
   "cell_type": "code",
   "execution_count": 12,
   "id": "647f89dd-6716-4a9d-8888-42c7fd14735a",
   "metadata": {},
   "outputs": [
    {
     "data": {
      "text/plain": [
       "['lung_scaler.joblib']"
      ]
     },
     "execution_count": 12,
     "metadata": {},
     "output_type": "execute_result"
    }
   ],
   "source": [
    "joblib.dump(preprocessor, 'lung_scaler.joblib')"
   ]
  },
  {
   "cell_type": "code",
   "execution_count": null,
   "id": "1a3aec12-7e73-40e6-9e4c-0dfd621e252a",
   "metadata": {},
   "outputs": [],
   "source": []
  }
 ],
 "metadata": {
  "kernelspec": {
   "display_name": "Python 3 (ipykernel)",
   "language": "python",
   "name": "python3"
  },
  "language_info": {
   "codemirror_mode": {
    "name": "ipython",
    "version": 3
   },
   "file_extension": ".py",
   "mimetype": "text/x-python",
   "name": "python",
   "nbconvert_exporter": "python",
   "pygments_lexer": "ipython3",
   "version": "3.10.12"
  }
 },
 "nbformat": 4,
 "nbformat_minor": 5
}
